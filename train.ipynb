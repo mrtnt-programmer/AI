{
 "cells": [
  {
   "cell_type": "code",
   "execution_count": 1,
   "id": "388b9ef4-5c63-43ad-b89b-392279fc40f0",
   "metadata": {},
   "outputs": [
    {
     "name": "stdout",
     "output_type": "stream",
     "text": [
      "Initialize Network...\n",
      "|--- DenseLayer\n",
      " |-- dimensions: (784,392)\n",
      "|-- ActivationLayer\n",
      " |-- dimensions: (392,392)\n",
      "|--- DenseLayer\n",
      " |-- dimensions: (392,196)\n",
      "|-- ActivationLayer\n",
      " |-- dimensions: (196,196)\n",
      "|--- DenseLayer\n",
      " |-- dimensions: (196,10)\n",
      "|-- ActivationLayer\n",
      " |-- dimensions: (10,10)\n"
     ]
    }
   ],
   "source": [
    "import numpy as np\n",
    "import load_mnist\n",
    "import network\n",
    "\n",
    "training_data, test_data = load_mnist.load_data()\n",
    "net = network.SequentialNetwork()\n",
    "net.add(network.DenseLayer(784, 392))\n",
    "net.add(network.ActivationLayer(392))\n",
    "net.add(network.DenseLayer(392, 196))\n",
    "net.add(network.ActivationLayer(196))\n",
    "net.add(network.DenseLayer(196, 10))\n",
    "net.add(network.ActivationLayer(10)) "
   ]
  },
  {
   "cell_type": "code",
   "execution_count": 2,
   "id": "a2e98957-ebde-43d1-9327-543b955ef56a",
   "metadata": {},
   "outputs": [
    {
     "name": "stdout",
     "output_type": "stream",
     "text": [
      "None [[0.]\n",
      " [0.]\n",
      " [0.]\n",
      " [0.]\n",
      " [0.]\n",
      " [0.]\n",
      " [0.]\n",
      " [0.]\n",
      " [0.]\n",
      " [1.]]\n"
     ]
    },
    {
     "ename": "TypeError",
     "evalue": "unsupported operand type(s) for -: 'NoneType' and 'float'",
     "output_type": "error",
     "traceback": [
      "\u001b[1;31m---------------------------------------------------------------------------\u001b[0m",
      "\u001b[1;31mTypeError\u001b[0m                                 Traceback (most recent call last)",
      "Cell \u001b[1;32mIn[2], line 1\u001b[0m\n\u001b[1;32m----> 1\u001b[0m \u001b[43mnet\u001b[49m\u001b[38;5;241;43m.\u001b[39;49m\u001b[43mtrain\u001b[49m\u001b[43m(\u001b[49m\u001b[43mtraining_data\u001b[49m\u001b[43m,\u001b[49m\u001b[43m \u001b[49m\u001b[43mepochs\u001b[49m\u001b[38;5;241;43m=\u001b[39;49m\u001b[38;5;241;43m10\u001b[39;49m\u001b[43m,\u001b[49m\u001b[43m \u001b[49m\u001b[43mmini_batch_size\u001b[49m\u001b[38;5;241;43m=\u001b[39;49m\u001b[38;5;241;43m10\u001b[39;49m\u001b[43m,\u001b[49m\n\u001b[0;32m      2\u001b[0m \u001b[43m \u001b[49m\u001b[43mlearning_rate\u001b[49m\u001b[38;5;241;43m=\u001b[39;49m\u001b[38;5;241;43m3.0\u001b[39;49m\u001b[43m,\u001b[49m\u001b[43m \u001b[49m\u001b[43mtest_data\u001b[49m\u001b[38;5;241;43m=\u001b[39;49m\u001b[43mtest_data\u001b[49m\u001b[43m)\u001b[49m \n",
      "File \u001b[1;32m~\\OneDrive\\Documents\\AI\\network.py:25\u001b[0m, in \u001b[0;36mSequentialNetwork.train\u001b[1;34m(self, training_data, epochs, mini_batch_size, learning_rate, test_data)\u001b[0m\n\u001b[0;32m     20\u001b[0m     mini_batches \u001b[38;5;241m=\u001b[39m [\n\u001b[0;32m     21\u001b[0m     training_data[k:k \u001b[38;5;241m+\u001b[39m mini_batch_size] \u001b[38;5;28;01mfor\u001b[39;00m\n\u001b[0;32m     22\u001b[0m     k \u001b[38;5;129;01min\u001b[39;00m \u001b[38;5;28mrange\u001b[39m(\u001b[38;5;241m0\u001b[39m, n, mini_batch_size)\n\u001b[0;32m     23\u001b[0m     ]\n\u001b[0;32m     24\u001b[0m \u001b[38;5;28;01mfor\u001b[39;00m mini_batch \u001b[38;5;129;01min\u001b[39;00m mini_batches:\n\u001b[1;32m---> 25\u001b[0m     \u001b[38;5;28;43mself\u001b[39;49m\u001b[38;5;241;43m.\u001b[39;49m\u001b[43mtrain_batch\u001b[49m\u001b[43m(\u001b[49m\u001b[43mmini_batch\u001b[49m\u001b[43m,\u001b[49m\u001b[43m \u001b[49m\u001b[43mlearning_rate\u001b[49m\u001b[43m)\u001b[49m\n\u001b[0;32m     26\u001b[0m \u001b[38;5;28;01mif\u001b[39;00m test_data:\n\u001b[0;32m     27\u001b[0m     n_test \u001b[38;5;241m=\u001b[39m \u001b[38;5;28mlen\u001b[39m(test_data)\n",
      "File \u001b[1;32m~\\OneDrive\\Documents\\AI\\network.py:33\u001b[0m, in \u001b[0;36mSequentialNetwork.train_batch\u001b[1;34m(self, mini_batch, learning_rate)\u001b[0m\n\u001b[0;32m     32\u001b[0m \u001b[38;5;28;01mdef\u001b[39;00m \u001b[38;5;21mtrain_batch\u001b[39m(\u001b[38;5;28mself\u001b[39m, mini_batch, learning_rate):\n\u001b[1;32m---> 33\u001b[0m     \u001b[38;5;28;43mself\u001b[39;49m\u001b[38;5;241;43m.\u001b[39;49m\u001b[43mforward_backward\u001b[49m\u001b[43m(\u001b[49m\u001b[43mmini_batch\u001b[49m\u001b[43m)\u001b[49m\n\u001b[0;32m     34\u001b[0m     \u001b[38;5;28mself\u001b[39m\u001b[38;5;241m.\u001b[39mupdate(mini_batch, learning_rate)\n",
      "File \u001b[1;32m~\\OneDrive\\Documents\\AI\\network.py:47\u001b[0m, in \u001b[0;36mSequentialNetwork.forward_backward\u001b[1;34m(self, mini_batch)\u001b[0m\n\u001b[0;32m     44\u001b[0m \u001b[38;5;28;01mfor\u001b[39;00m layer \u001b[38;5;129;01min\u001b[39;00m \u001b[38;5;28mself\u001b[39m\u001b[38;5;241m.\u001b[39mlayers:\n\u001b[0;32m     45\u001b[0m     layer\u001b[38;5;241m.\u001b[39mforward()\n\u001b[0;32m     46\u001b[0m     \u001b[38;5;28mself\u001b[39m\u001b[38;5;241m.\u001b[39mlayers[\u001b[38;5;241m-\u001b[39m\u001b[38;5;241m1\u001b[39m]\u001b[38;5;241m.\u001b[39minput_delta \u001b[38;5;241m=\u001b[39m \\\n\u001b[1;32m---> 47\u001b[0m     \u001b[38;5;28;43mself\u001b[39;49m\u001b[38;5;241;43m.\u001b[39;49m\u001b[43mloss\u001b[49m\u001b[38;5;241;43m.\u001b[39;49m\u001b[43mloss_derivative\u001b[49m\u001b[43m(\u001b[49m\u001b[38;5;28;43mself\u001b[39;49m\u001b[38;5;241;43m.\u001b[39;49m\u001b[43mlayers\u001b[49m\u001b[43m[\u001b[49m\u001b[38;5;241;43m-\u001b[39;49m\u001b[38;5;241;43m1\u001b[39;49m\u001b[43m]\u001b[49m\u001b[38;5;241;43m.\u001b[39;49m\u001b[43moutput_data\u001b[49m\u001b[43m,\u001b[49m\u001b[43m \u001b[49m\u001b[43my\u001b[49m\u001b[43m)\u001b[49m\n\u001b[0;32m     48\u001b[0m \u001b[38;5;28;01mfor\u001b[39;00m layer \u001b[38;5;129;01min\u001b[39;00m \u001b[38;5;28mreversed\u001b[39m(\u001b[38;5;28mself\u001b[39m\u001b[38;5;241m.\u001b[39mlayers):\n\u001b[0;32m     49\u001b[0m     layer\u001b[38;5;241m.\u001b[39mbackward()\n",
      "File \u001b[1;32m~\\OneDrive\\Documents\\AI\\network.py:72\u001b[0m, in \u001b[0;36mMSE.loss_derivative\u001b[1;34m(predictions, labels)\u001b[0m\n\u001b[0;32m     69\u001b[0m \u001b[38;5;129m@staticmethod\u001b[39m\n\u001b[0;32m     70\u001b[0m \u001b[38;5;28;01mdef\u001b[39;00m \u001b[38;5;21mloss_derivative\u001b[39m(predictions, labels):\n\u001b[0;32m     71\u001b[0m     \u001b[38;5;28mprint\u001b[39m(predictions, labels)\n\u001b[1;32m---> 72\u001b[0m     \u001b[38;5;28;01mreturn\u001b[39;00m \u001b[43mpredictions\u001b[49m\u001b[43m \u001b[49m\u001b[38;5;241;43m-\u001b[39;49m\u001b[43m \u001b[49m\u001b[43mlabels\u001b[49m\n",
      "\u001b[1;31mTypeError\u001b[0m: unsupported operand type(s) for -: 'NoneType' and 'float'"
     ]
    }
   ],
   "source": [
    "net.train(training_data, epochs=10, mini_batch_size=10,\n",
    " learning_rate=3.0, test_data=test_data) \n"
   ]
  },
  {
   "cell_type": "code",
   "execution_count": 2,
   "id": "2527882d-c913-44b4-aba7-4d75e74604ae",
   "metadata": {},
   "outputs": [
    {
     "data": {
      "text/plain": [
       "50000"
      ]
     },
     "execution_count": 2,
     "metadata": {},
     "output_type": "execute_result"
    }
   ],
   "source": [
    "len(training_data)"
   ]
  },
  {
   "cell_type": "code",
   "execution_count": null,
   "id": "f9004f1d-a6da-4f7f-beaf-35d1c1c1093d",
   "metadata": {},
   "outputs": [],
   "source": []
  }
 ],
 "metadata": {
  "kernelspec": {
   "display_name": "Python 3 (ipykernel)",
   "language": "python",
   "name": "python3"
  },
  "language_info": {
   "codemirror_mode": {
    "name": "ipython",
    "version": 3
   },
   "file_extension": ".py",
   "mimetype": "text/x-python",
   "name": "python",
   "nbconvert_exporter": "python",
   "pygments_lexer": "ipython3",
   "version": "3.11.5"
  }
 },
 "nbformat": 4,
 "nbformat_minor": 5
}
